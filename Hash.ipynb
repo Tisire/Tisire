{
  "nbformat": 4,
  "nbformat_minor": 0,
  "metadata": {
    "colab": {
      "provenance": [],
      "include_colab_link": true
    },
    "kernelspec": {
      "name": "python3",
      "display_name": "Python 3"
    },
    "language_info": {
      "name": "python"
    }
  },
  "cells": [
    {
      "cell_type": "markdown",
      "metadata": {
        "id": "view-in-github",
        "colab_type": "text"
      },
      "source": [
        "<a href=\"https://colab.research.google.com/github/Tisire/Tisire/blob/main/Hash.ipynb\" target=\"_parent\"><img src=\"https://colab.research.google.com/assets/colab-badge.svg\" alt=\"Open In Colab\"/></a>"
      ]
    },
    {
      "cell_type": "markdown",
      "source": [
        "Vos mots de passe pour vous connecter à votre compte Facebook, Gmail ou tout autre service necessitant une authentification, ils ne sont normalement pas stockés directement dans un fichier. Le risque de fuite serait trop important...\n",
        "\n",
        "Normalement, seul un hash de votre mot de passe est enregistré sur un ordinateur : un hash est une suite de caractères de taille fixe associée à une chaîne quelconque."
      ],
      "metadata": {
        "id": "NYJQCgMwZAPZ"
      }
    },
    {
      "cell_type": "markdown",
      "source": [
        "### *1* - Fonctions de hash\n",
        "\n",
        "Les fonctions de hash utilisées en cryptographie sont toujours faciles (rapide) à calculer, mais elles doivent vérifier les propriétés suivantes :\n",
        "\n",
        "- il est très difficile de trouver une chaîne ayant un hash donné,\n",
        "- il est très difficile de modifier une chaîne sans modifier son hash,\n",
        "- il est très difficile de trouver deux chaînes avec le même hash.\n",
        "\n",
        "Les algorithmes de hashage les plus connus sont :\n",
        "\n",
        "- md5 (mais cet algorithme n'est plus sûr),\n",
        "- sha1,\n",
        "- sha256 / sha512\n",
        "\n",
        "Pour vous authentifier sur un site, vous tapez votre mot de passe, et le programme vérifie que son hash est bien identique au hash stocké sur le serveur..."
      ],
      "metadata": {
        "id": "D0Fa_kopZwHc"
      }
    },
    {
      "cell_type": "code",
      "execution_count": null,
      "metadata": {
        "id": "aq1hN8O3Y-GA"
      },
      "outputs": [],
      "source": [
        "import hashlib\n",
        "mot1 = 'Bonne et heureuse année'\n",
        "print(hashlib.sha256(mot1.encode('utf-8')).hexdigest())\n",
        "mot2 = 'bonne et heureuse année'\n",
        "print(hashlib.sha256(mot2.encode('utf-8')).hexdigest())\n",
        "mot3 = 'Bonne'\n",
        "print(hashlib.sha256(mot3.encode('utf-8')).hexdigest())"
      ]
    },
    {
      "cell_type": "markdown",
      "source": [
        "###2 - Attaque par dictionnaire\n",
        "\n",
        "Si on possède le hash d'un mot de passe, on peut essayer de retrouver le mot de passe en essayant toutes les possibilités.\n",
        "\n",
        "En général, il est intéressant de commencer par les mots du dictionnaire. Le fichier dico.txt contient les mots du dictionnaire \"le Littré\" qui ne contiennent pas d'accent. Il contient 47666 mots...\n",
        "\n",
        "Le code Python suivant permet de tester tous les mots de ce fichier et de comparer leur hash avec un hash passé en argument :"
      ],
      "metadata": {
        "id": "96HvS9wWRvK0"
      }
    },
    {
      "cell_type": "code",
      "source": [
        "import hashlib\n",
        "from datetime import datetime\n",
        "\n",
        "def attaque_dico_hash(h, dic):\n",
        "    dico = open(\"dico.txt\", mode=\"r\")\n",
        "    n = 0                 # pour compter le nombre de mots\n",
        "    t0 = datetime.now()\t  # l'heure à l'instant présent\n",
        "\n",
        "    for mot in dico:\n",
        "      mot = mot.strip()\n",
        "      n = n + 1\n",
        "\n",
        "      if hashlib.sha256(mot.encode()).hexdigest() == h:\n",
        "          print()\n",
        "          print(\"TROUVÉ ! Le mot '{}' a le hash {},\".format(mot,h))\n",
        "          print(\"{} mot(s) ont étés testés en {} seconde(s).\".format(n, (datetime.now()-t0).total_seconds()))\n",
        "          dico.close()\n",
        "          return\n",
        "\n",
        "      if n % 1000 == 0:\n",
        "          print(\".\", end=\"\")\n",
        "\n",
        "    print()\n",
        "    print(\"{} mot(s) ont étés testés en {} seconde(s),\".format(n, (datetime.now()-t0).total_seconds()))\n",
        "    print(\"Aucun des mots testés n'avait le hash {}.\".format(h))"
      ],
      "metadata": {
        "id": "zsk_te_CSEuQ"
      },
      "execution_count": 2,
      "outputs": []
    },
    {
      "cell_type": "code",
      "source": [
        "mot3 = 'zoo'\n",
        "h = hashlib.sha256(mot3.encode('utf-8')).hexdigest()\n",
        "#h = '11f48731001d3a8e81b2305036b5cb2a19309d7fe86983e05fe16a2cb900e522'\n",
        "dic ='dico.txt'\n",
        "attaque_dico_hash(h, dic)"
      ],
      "metadata": {
        "id": "qFT_k4CvSjDD"
      },
      "execution_count": null,
      "outputs": []
    },
    {
      "cell_type": "markdown",
      "source": [
        "###3 - Attaque par force brute\n",
        "\n",
        "Nous allons maintenant tester tous les mots de passe d'une taille donnée. Pour les mots de passe sur 3 lettres, cela pourrait donner :"
      ],
      "metadata": {
        "id": "wXXcqqMiWjA1"
      }
    },
    {
      "cell_type": "code",
      "source": [
        "import hashlib\n",
        "from datetime import datetime\n",
        "\n",
        "def attaque_brute_force_hash(h):\n",
        "    n = 0                   # pour compter le nombre de mots\n",
        "    t0 = datetime.now()\t    # l'heure à l'instant présent\n",
        "    alphabet = \"abcdefghijklmnopqrstuvwxyz\"\n",
        "\n",
        "    for lettre1 in alphabet:\n",
        "        for lettre2 in alphabet:\n",
        "            for lettre3 in alphabet:\n",
        "                mot = lettre1 + lettre2 + lettre3\n",
        "                n += 1\n",
        "\n",
        "                if hashlib.sha256(mot.encode()).hexdigest() == h:\n",
        "                    print()\n",
        "                    print(\"TROUVÉ ! '{}' a le hash {},\".format(mot,h))\n",
        "                    print(\"{} mot(s) ont étés testés en {} seconde(s).\".format(n, (datetime.now()-t0).total_seconds()))\n",
        "                    return\n",
        "\n",
        "                if n % 1000 == 0:\n",
        "                    print(\".\", end=\"\")\n",
        "\n",
        "    print()\n",
        "    print(\"{} mot(s) ont étés testés en {} seconde(s),\".format(n, (datetime.now()-t0).total_seconds()))\n",
        "    print(\"Aucun des mots testés n'avait le hash {}.\".format(h))\n"
      ],
      "metadata": {
        "id": "DHHtpyOgWs4m"
      },
      "execution_count": 1,
      "outputs": []
    },
    {
      "cell_type": "code",
      "source": [
        "h = hashlib.sha256(\"hey\".encode()).hexdigest()\n",
        "attaque_brute_force_hash(h)"
      ],
      "metadata": {
        "id": "VDjaHx1mXVd2",
        "outputId": "2b62175e-9f4c-43e1-8a15-11a320ce278c",
        "colab": {
          "base_uri": "https://localhost:8080/"
        }
      },
      "execution_count": 3,
      "outputs": [
        {
          "output_type": "stream",
          "name": "stdout",
          "text": [
            "....\n",
            "TROUVÉ ! 'hey' a le hash fa690b82061edfd2852629aeba8a8977b57e40fcb77d1a7a28b26cba62591204,\n",
            "4861 mot(s) ont étés testés en 0.016165 seconde(s).\n"
          ]
        }
      ]
    },
    {
      "cell_type": "markdown",
      "source": [
        "TP : En adaptant votre programme et votre alphabet au type de mot de passe, mesurer le temps nécessaire au déchiffrement par la force brute des mots de passe suivants :\n",
        "\n",
        "*   aaa (3 caractères, minuscules uniquement)\n",
        "*   zzz\n",
        "*   Aa1 (3 caractères, majuscules / minuscules / chiffres)\n",
        "*   Zz9\n",
        "*   aaaa (4 caractères, minuscules uniquement)\n",
        "*   zzzz\n",
        "*   Aaa1 (4 caractères, majuscules / minuscules / chiffres)\n",
        "*   Zzz9\n",
        "*   Aaaa1 (5 caractères, majuscules / minuscules / chiffres)\n",
        "*   Zzzz9\n",
        "*   @Dm1n (5 caractères, majuscules / minuscules / chiffres / caractères spéciaux)\n",
        "*   #$!/*\n",
        "\n"
      ],
      "metadata": {
        "id": "DNMvqcZ4Zy2N"
      }
    },
    {
      "cell_type": "markdown",
      "source": [
        "import hashlib\n",
        "from datetime import datetime\n",
        "\n",
        "def attaque_brute_force_hash(h):\n",
        "    n = 0                   # pour compter le nombre de mots\n",
        "    t0 = datetime.now()\t    # l'heure à l'instant présent\n",
        "    alphabet = \"abcdefghijklmnopqrstuvwxyz\"\n",
        "\n",
        "    for lettre1 in alphabet:\n",
        "        for lettre2 in alphabet:\n",
        "            for lettre3 in alphabet:\n",
        "                mot = lettre1 + lettre2 + lettre3\n",
        "                n += 1\n"
      ],
      "metadata": {
        "id": "pLMikp0k6Hce"
      }
    },
    {
      "cell_type": "markdown",
      "source": [
        "Comparer vos mesures au tableau disponible ici :\n",
        "https://goopensource.fr/robustesse-des-mots-de-passe/"
      ],
      "metadata": {
        "id": "5bgL9OD9jqTg"
      }
    }
  ]
}